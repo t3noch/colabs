{
  "nbformat": 4,
  "nbformat_minor": 0,
  "metadata": {
    "colab": {
      "provenance": [],
      "include_colab_link": true
    },
    "kernelspec": {
      "name": "python3",
      "display_name": "Python 3"
    },
    "language_info": {
      "name": "python"
    }
  },
  "cells": [
    {
      "cell_type": "markdown",
      "metadata": {
        "id": "view-in-github",
        "colab_type": "text"
      },
      "source": [
        "<a href=\"https://colab.research.google.com/github/t3noch/colabs/blob/main/Copia_de_10_CoT_peliculas.ipynb\" target=\"_parent\"><img src=\"https://colab.research.google.com/assets/colab-badge.svg\" alt=\"Open In Colab\"/></a>"
      ]
    },
    {
      "cell_type": "code",
      "execution_count": null,
      "metadata": {
        "id": "AMnnoFbXfyKA"
      },
      "outputs": [],
      "source": [
        "# 📌 1️⃣ Instalar librerías necesarias en Google Colab\n",
        "!pip install scikit-surprise pandas matplotlib"
      ]
    },
    {
      "cell_type": "code",
      "source": [
        "# 📌 2️⃣ Importar librerías\n",
        "import pandas as pd\n",
        "import numpy as np\n",
        "import matplotlib.pyplot as plt\n",
        "from surprise import Dataset, Reader, SVD\n",
        "from surprise.model_selection import train_test_split"
      ],
      "metadata": {
        "id": "xfGOpeihgMLK"
      },
      "execution_count": null,
      "outputs": []
    },
    {
      "cell_type": "code",
      "source": [
        "!wget --no-check-certificate -O ml-100k.zip https://files.grouplens.org/datasets/movielens/ml-100k.zip\n",
        "!unzip -q ml-100k.zip\n"
      ],
      "metadata": {
        "id": "xYDBMuHshN5t"
      },
      "execution_count": null,
      "outputs": []
    },
    {
      "cell_type": "code",
      "source": [
        "# 📌 3️⃣ Descargar y cargar el dataset MovieLens 100k\n",
        "ratings = ___.read_csv(\"ml-100k/u.data\", sep=\"\\t\", names=[\"id_usuario\", \"id_pelicula\", \"rating\", \"timestamp\"])\n",
        "peliculas = ___.___(\"ml-100k/u.item\", sep=\"|\", encoding=\"latin-1\", usecols=[0, 1], names=[\"id_pelicula\", \"titulo\"])\n",
        "\n"
      ],
      "metadata": {
        "id": "L8Ws0XuAgOlE"
      },
      "execution_count": null,
      "outputs": []
    },
    {
      "cell_type": "code",
      "source": [
        "# 📌 5️⃣ Preparar los datos para Surprise\n",
        "reader = Reader(rating_scale=(1, 5))\n",
        "data = Dataset.load_from_df(ratings[[\"id_usuario\", \"id_pelicula\", \"rating\"]], reader)\n",
        "\n",
        "# 📌 6️⃣ Dividir datos en entrenamiento y prueba\n",
        "trainset, testset = train_test_split(data, test_size=0.2)"
      ],
      "metadata": {
        "id": "1BhKHwQAg6mq"
      },
      "execution_count": null,
      "outputs": []
    },
    {
      "cell_type": "code",
      "source": [
        "# 📌 7️⃣ Entrenar modelo SVD\n",
        "modelo = SVD()\n",
        "modelo.fit(trainset)\n",
        "\n",
        "# 📌 8️⃣ Función para recomendar películas con Chain of Thought (CoT)\n",
        "def recomendar_pelicula(id_usuario):\n",
        "    # Obtener películas vistas por el usuario\n",
        "    peliculas_vistas = ratings[ratings[\"id_usuario\"] == id_usuario][\"id_pelicula\"].tolist()\n",
        "    peliculas_no_vistas = peliculas[~peliculas[\"id_pelicula\"].isin(peliculas_vistas)]\n",
        "\n",
        "    # Predecir calificación para cada película no vista\n",
        "    predicciones = []\n",
        "    for _, row in peliculas_no_vistas.iterrows():\n",
        "        pred = modelo.predict(id_usuario, row[\"id_pelicula\"])\n",
        "        predicciones.append((row[\"id_pelicula\"], pred.est))\n",
        "\n",
        "    # Ordenar por mejor predicción\n",
        "    predicciones.sort(key=lambda x: x[1], reverse=True)\n",
        "\n",
        "    # Tomar la mejor película recomendada\n",
        "    mejor_pelicula_id, puntuacion = predicciones[0]\n",
        "    titulo_recomendado = peliculas[peliculas[\"id_pelicula\"] == mejor_pelicula_id][\"titulo\"].values[0]\n",
        "\n",
        "    # 📌 9️⃣ Generar explicación CoT para la recomendación\n",
        "    peliculas_favoritas = peliculas[peliculas[\"id_pelicula\"].isin(peliculas_vistas)].head(5)\n",
        "\n",
        "    print(\"\\n🔍 Análisis de usuario:\")\n",
        "    print(f\"🎬 Películas favoritas: {', '.join(peliculas_favoritas['titulo'].values)}\")\n",
        "\n",
        "    print(\"\\n📝 Explicación paso a paso (Chain of Thought):\")\n",
        "    print(f\"1️⃣ Has visto muchas películas con alto puntaje.\")\n",
        "    print(f\"2️⃣ '{titulo_recomendado}' ha sido altamente valorada por usuarios similares.\")\n",
        "    print(f\"3️⃣ Basado en el modelo, se estima que te gustaría con {puntuacion:.2f}/5.\")\n",
        "    print(f\"✅ Recomendación final: ¡Mira '{titulo_recomendado}'!\")"
      ],
      "metadata": {
        "id": "EAOCNHf8g9kN"
      },
      "execution_count": null,
      "outputs": []
    },
    {
      "cell_type": "code",
      "source": [
        "# 📌 🔟 Probar recomendación para un usuario\n",
        "recomendar_pelicula(2)"
      ],
      "metadata": {
        "id": "WBE0TuduhBap"
      },
      "execution_count": null,
      "outputs": []
    }
  ]
}