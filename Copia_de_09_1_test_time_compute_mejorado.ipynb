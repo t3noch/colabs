{
  "nbformat": 4,
  "nbformat_minor": 0,
  "metadata": {
    "colab": {
      "provenance": [],
      "include_colab_link": true
    },
    "kernelspec": {
      "name": "python3",
      "display_name": "Python 3"
    },
    "language_info": {
      "name": "python"
    }
  },
  "cells": [
    {
      "cell_type": "markdown",
      "metadata": {
        "id": "view-in-github",
        "colab_type": "text"
      },
      "source": [
        "<a href=\"https://colab.research.google.com/github/t3noch/colabs/blob/main/Copia_de_09_1_test_time_compute_mejorado.ipynb\" target=\"_parent\"><img src=\"https://colab.research.google.com/assets/colab-badge.svg\" alt=\"Open In Colab\"/></a>"
      ]
    },
    {
      "cell_type": "code",
      "execution_count": null,
      "metadata": {
        "id": "d3Qxs-xemkwK"
      },
      "outputs": [],
      "source": [
        "# 📌 1️⃣ Instalar YOLOv8 y Tesseract en Colab\n",
        "!pip install ultralytics opencv-python pytesseract\n",
        "!apt-get install -y tesseract-ocr"
      ]
    },
    {
      "cell_type": "code",
      "source": [
        "# 📌 2️⃣ Importar librerías necesarias\n",
        "import cv2\n",
        "import numpy as np\n",
        "import pytesseract\n",
        "import matplotlib.pyplot as plt\n",
        "from google.colab import files\n",
        "from ___ import YOLO"
      ],
      "metadata": {
        "id": "nekygZ-0mweg"
      },
      "execution_count": null,
      "outputs": []
    },
    {
      "cell_type": "code",
      "source": [
        "# 📌 3️⃣ Configurar Tesseract en Colab\n",
        "pytesseract.pytesseract.tesseract_cmd = \"/usr/bin/tesseract\"\n",
        "\n",
        "# 📌 4️⃣ Cargar un modelo YOLO preentrenado para detección de placas\n",
        "modelo_yolo = YOLO(\"yolov8n.pt\")  # Usa el modelo base preentrenado"
      ],
      "metadata": {
        "id": "FsP15kPLmysk"
      },
      "execution_count": null,
      "outputs": []
    },
    {
      "cell_type": "code",
      "source": [
        "# 📌 5️⃣ Subir una imagen desde la computadora\n",
        "uploaded = files.upload()\n",
        "image_path = list(uploaded.keys())[0]  # Nombre del archivo subido\n",
        "\n",
        "# 📌 6️⃣ Cargar la imagen de la matrícula\n",
        "imagen = cv2.imread(___)\n",
        "imagen_rgb = ___.cvtColor(imagen, cv2.COLOR_BGR2RGB)  # Convertir para visualización en Matplotlib"
      ],
      "metadata": {
        "id": "v_5GCZGPn0Ga"
      },
      "execution_count": null,
      "outputs": []
    },
    {
      "cell_type": "code",
      "source": [
        "# 📌 7️⃣ Función para aplicar Test-Time Augmentation (TTA)\n",
        "def aplicar_tta(img):\n",
        "    transformaciones = []\n",
        "\n",
        "    # Imagen original\n",
        "    transformaciones.append(img)\n",
        "\n",
        "    # Ajuste de brillo y contraste\n",
        "    bright = cv2.convertScaleAbs(img, alpha=1.2, beta=20)\n",
        "    transformaciones.append(bright)\n",
        "\n",
        "    # Corrección de perspectiva (simulada con rotación)\n",
        "    rows, cols = img.shape[:2]\n",
        "    M = cv2.getRotationMatrix2D((cols/2, rows/2), 10, 1)\n",
        "    rotada = cv2.warpAffine(img, M, (cols, rows))\n",
        "    transformaciones.append(rotada)\n",
        "\n",
        "    # Reducción de ruido con desenfoque\n",
        "    blur = cv2.GaussianBlur(img, (5, 5), 0)\n",
        "    transformaciones.append(blur)\n",
        "\n",
        "    return transformaciones\n",
        "\n",
        "# 📌 8️⃣ Función para extraer texto usando Tesseract OCR\n",
        "def leer_placa(img):\n",
        "    img_gray = cv2.cvtColor(img, cv2.COLOR_BGR2GRAY)\n",
        "    img_thresh = cv2.adaptiveThreshold(img_gray, 255, cv2.ADAPTIVE_THRESH_GAUSSIAN_C, cv2.THRESH_BINARY, 11, 2)\n",
        "    texto = pytesseract.image_to_string(img, config='--psm 8')\n",
        "    print('Numeros y letras reconocidos:', texto.strip())\n",
        "    return texto.strip()\n",
        "\n"
      ],
      "metadata": {
        "id": "mIuIc79jm1k0"
      },
      "execution_count": null,
      "outputs": []
    },
    {
      "cell_type": "code",
      "source": [
        "# 📌 9️⃣ Detectar objetos en la imagen con YOLO\n",
        "print(\"\\n🔍 Detectando matrículas en la imagen...\")\n",
        "resultados = modelo_yolo(imagen)\n",
        "\n",
        "# 📌 🔟 Buscar la detección de una matrícula\n",
        "placa_detectada = False\n",
        "predicciones = []\n",
        "\n",
        "for resultado in resultados:\n",
        "    \"\"\"print(\"Deteccion de Yolo\")\n",
        "    x1, y1, x2, y2 = map(int, box.xyxy[0])  # Coordenadas de la caja detectada\n",
        "    recorte_placa = imagen[y1:y2, x1:x2]\n",
        "    plt.imshow(recorte_placa)\n",
        "    plt.axis(\"off\")\n",
        "    plt.show()\"\"\"\n",
        "    for box in resultado.boxes:\n",
        "        x1, y1, x2, y2 = map(int, box.xyxy[0])  # Coordenadas de la caja detectada\n",
        "        recorte_placa = imagen[y1:y2, x1:x2]  # Extraer la matrícula\n",
        "\n",
        "        # 📌 🔟 Aplicar TTA (Test-Time Augmentation) a la matrícula detectada\n",
        "        imagenes_modificadas = aplicar_tta(recorte_placa)\n",
        "\n",
        "        # 📌 1️⃣1️⃣ Extraer texto usando OCR en cada versión de la imagen\n",
        "        predicciones_tta = [leer_placa(img) for img in imagenes_modificadas]\n",
        "\n",
        "        # 📌 1️⃣2️⃣ Filtrar predicciones (descartar resultados con baja confianza)\n",
        "        predicciones_filtradas = [p for p in predicciones_tta if len(p) >= 5]\n",
        "\n",
        "        if predicciones_filtradas:\n",
        "            # 📌 1️⃣3️⃣ Contar ocurrencias de cada predicción\n",
        "            conteo_predicciones = {p: predicciones_filtradas.count(p) for p in set(predicciones_filtradas)}\n",
        "\n",
        "            # 📌 1️⃣4️⃣ Verificar si alguna predicción aparece al menos 2 veces\n",
        "            coincidencias = [placa for placa, frecuencia in conteo_predicciones.items() if frecuencia >= 2]\n",
        "\n",
        "            if coincidencias:\n",
        "                # Si hay al menos una predicción con 2 coincidencias, tomar la más frecuente\n",
        "                placa_final = max(coincidencias, key=conteo_predicciones.get)\n",
        "            else:\n",
        "                placa_final = \"NO RECONOCIDA\"\n",
        "        else:\n",
        "            placa_final = \"NO RECONOCIDA\"\n",
        "\n",
        "        # 📌 1️⃣3️⃣ Mostrar la imagen con la detección y el recorte\n",
        "        plt.figure(figsize=(10, 5))\n",
        "\n",
        "        # Imagen con detección\n",
        "        plt.subplot(1, 2, 1)\n",
        "        cv2.rectangle(imagen_rgb, (x1, y1), (x2, y2), (0, 255, 0), 2)  # Dibujar rectángulo\n",
        "        plt.imshow(imagen_rgb)\n",
        "        plt.title(\"Detección de Matrícula\")\n",
        "        plt.axis(\"off\")\n",
        "\n",
        "        # Recorte de la matrícula\n",
        "        plt.subplot(1, 2, 2)\n",
        "        plt.imshow(cv2.cvtColor(recorte_placa, cv2.COLOR_BGR2RGB))\n",
        "        plt.title(f\"Predicción Final: {placa_final}\")\n",
        "        plt.axis(\"off\")\n",
        "\n",
        "        plt.show()\n",
        "\n",
        "        print(f\"\\n✅ Matrícula detectada (TTC aplicado): {placa_final}\")\n",
        "        placa_detectada = True\n",
        "        #break  # Solo mostrar la primera detección\n",
        "\n",
        "# 📌 1️⃣4️⃣ Si no se detectó matrícula, mostrar mensaje\n",
        "if not placa_detectada:\n",
        "    print(\"\\n⚠️ No se detectó ninguna matrícula en la imagen. Prueba con otra imagen.\")"
      ],
      "metadata": {
        "id": "m89QoHfawL4r"
      },
      "execution_count": null,
      "outputs": []
    }
  ]
}