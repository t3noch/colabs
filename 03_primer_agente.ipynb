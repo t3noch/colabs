{
  "nbformat": 4,
  "nbformat_minor": 0,
  "metadata": {
    "colab": {
      "provenance": [],
      "include_colab_link": true
    },
    "kernelspec": {
      "name": "python3",
      "display_name": "Python 3"
    },
    "language_info": {
      "name": "python"
    }
  },
  "cells": [
    {
      "cell_type": "markdown",
      "metadata": {
        "id": "view-in-github",
        "colab_type": "text"
      },
      "source": [
        "<a href=\"https://colab.research.google.com/github/t3noch/colabs/blob/main/03_primer_agente.ipynb\" target=\"_parent\"><img src=\"https://colab.research.google.com/assets/colab-badge.svg\" alt=\"Open In Colab\"/></a>"
      ]
    },
    {
      "cell_type": "markdown",
      "source": [
        "# Mi primer agente de IA"
      ],
      "metadata": {
        "id": "Kh6i7n1Zv3nn"
      }
    },
    {
      "cell_type": "code",
      "execution_count": null,
      "metadata": {
        "id": "x0LlFVAZvfOg",
        "colab": {
          "base_uri": "https://localhost:8080/"
        },
        "outputId": "7bddffda-98f1-408e-e96b-1f7bafc550d9"
      },
      "outputs": [
        {
          "name": "stdout",
          "output_type": "stream",
          "text": [
            "Ingrese su consumo calórico máximo (o escriba 'salir' para terminar): paris\n",
            "Por favor, ingrese un número válido.\n",
            "Ingrese su consumo calórico máximo (o escriba 'salir' para terminar): 2\n",
            "No hay recetas disponibles con esas calorías.\n",
            "Ingrese su consumo calórico máximo (o escriba 'salir' para terminar): 200\n",
            "Recetas recomendadas (≤ 200 kcal): Batido de Frutas, Sopa de Verduras\n",
            "Ingrese su consumo calórico máximo (o escriba 'salir' para terminar): salir\n"
          ]
        }
      ],
      "source": [
        "# 📌 Paso 1: Definir Base de Datos de Recetas\n",
        "recetas = {\n",
        "    \"Ensalada César\": 250,\n",
        "    \"Pechuga de Pollo a la Plancha\": 350,\n",
        "    \"Pasta con Pesto\": 600,\n",
        "    \"Batido de Frutas\": 200,\n",
        "    \"Tacos de Pescado\": 450,\n",
        "    \"Sopa de Verduras\": 150\n",
        "}\n",
        "\n",
        "# 📌 Paso 2: Definir la función del Agente\n",
        "def recomendar_receta(calorias_deseadas):\n",
        "    opciones = [receta for receta, calorias in recetas.items() if calorias <= calorias_deseadas]\n",
        "    if opciones:\n",
        "        return f\"Recetas recomendadas (≤ {calorias_deseadas} kcal): {', '.join(opciones)}\"\n",
        "    else:\n",
        "        return \"No hay recetas disponibles con esas calorías.\"\n",
        "\n",
        "# 📌 Paso 3: Interacción con el Usuario\n",
        "while True:\n",
        "    entrada = input(\"Ingrese su consumo calórico máximo (o escriba 'salir' para terminar): \")\n",
        "    ___ entrada.lower() == \"salir\":\n",
        "        break\n",
        "    ___ entrada.isdigit():\n",
        "        calorias = int(entrada)\n",
        "        ___(recomendar_receta(calorias))\n",
        "    ___:\n",
        "        ___(\"Por favor, ingrese un número válido.\")"
      ]
    },
    {
      "cell_type": "markdown",
      "source": [
        "# Mejorando al agente"
      ],
      "metadata": {
        "id": "vk-WqQ8zv6zJ"
      }
    },
    {
      "cell_type": "code",
      "source": [
        "# 📌 Paso 1: Base de Datos de Recetas Mejorada\n",
        "recetas = {\n",
        "    \"desayuno\": {\n",
        "        \"Batido de Frutas\": 200,\n",
        "        \"Avena con Miel\": 300,\n",
        "        \"Panqueques de Avena\": 400\n",
        "    },\n",
        "    \"almuerzo\": {\n",
        "        \"Ensalada César\": 250,\n",
        "        \"Pechuga de Pollo a la Plancha\": 350,\n",
        "        \"Pasta con Pesto\": 600\n",
        "    },\n",
        "    \"cena\": {\n",
        "        \"Tacos de Pescado\": 450,\n",
        "        \"Sopa de Verduras\": 150,\n",
        "        \"Salmón con Espárragos\": 500\n",
        "    }\n",
        "}\n",
        "\n",
        "# 📌 Paso 2: Función Mejorada con Restricción de Respuestas\n",
        "___ recomendar_receta(calorias_deseadas, tipo_comida):\n",
        "    if tipo_comida not in recetas:\n",
        "        return \"Por favor, elija entre 'desayuno', 'almuerzo' o 'cena'.\"\n",
        "\n",
        "    opciones = [receta for receta, calorias in recetas[tipo_comida].items() if calorias <= calorias_deseadas]\n",
        "    if opciones:\n",
        "        return f\"Recetas recomendadas para {tipo_comida} (≤ {calorias_deseadas} kcal): {', '.join(opciones)}\"\n",
        "    else:\n",
        "        return f\"No hay recetas disponibles para {tipo_comida} con esas calorías.\"\n",
        "\n",
        "# 📌 Paso 3: Función de Interacción con el Usuario Mejorada\n",
        "___ agente_ia():\n",
        "    print(\"Bienvenido al asistente de recetas. Solo puedo responder sobre recetas.\")\n",
        "    while True:\n",
        "        entrada = input(\"\\nIngrese su consumo calórico máximo (o 'salir' para terminar): \")\n",
        "        if entrada.lower() == \"salir\":\n",
        "            print(\"Gracias por usar el asistente de recetas. ¡Hasta luego!\")\n",
        "            break\n",
        "        elif entrada.isdigit():\n",
        "            calorias = int(entrada)\n",
        "            tipo_comida = input(\"¿Para qué comida? (desayuno, almuerzo, cena): \").lower()\n",
        "            print(recomendar_receta(calorias, tipo_comida))\n",
        "        else:\n",
        "            print(\"⚠ Entrada no válida. Solo puedo responder sobre recetas.\")\n",
        "\n",
        "# 📌 Iniciar el Agente\n",
        "___"
      ],
      "metadata": {
        "id": "puJimYmIv8jZ",
        "colab": {
          "base_uri": "https://localhost:8080/"
        },
        "outputId": "93ab4854-7b35-4fb8-b797-c9e86f1b6bd1"
      },
      "execution_count": null,
      "outputs": [
        {
          "output_type": "stream",
          "name": "stdout",
          "text": [
            "Bienvenido al asistente de recetas. Solo puedo responder sobre recetas.\n",
            "\n",
            "Ingrese su consumo calórico máximo (o 'salir' para terminar): 500\n",
            "¿Para qué comida? (desayuno, almuerzo, cena): cena\n",
            "Recetas recomendadas para cena (≤ 500 kcal): Tacos de Pescado, Sopa de Verduras, Salmón con Espárragos\n",
            "\n",
            "Ingrese su consumo calórico máximo (o 'salir' para terminar): avion\n",
            "⚠ Entrada no válida. Solo puedo responder sobre recetas.\n",
            "\n",
            "Ingrese su consumo calórico máximo (o 'salir' para terminar): salir\n",
            "Gracias por usar el asistente de recetas. ¡Hasta luego!\n"
          ]
        }
      ]
    }
  ]
}