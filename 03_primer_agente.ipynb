{
  "nbformat": 4,
  "nbformat_minor": 0,
  "metadata": {
    "colab": {
      "provenance": [],
      "include_colab_link": true
    },
    "kernelspec": {
      "name": "python3",
      "display_name": "Python 3"
    },
    "language_info": {
      "name": "python"
    }
  },
  "cells": [
    {
      "cell_type": "markdown",
      "metadata": {
        "id": "view-in-github",
        "colab_type": "text"
      },
      "source": [
        "<a href=\"https://colab.research.google.com/github/t3noch/colabs/blob/main/03_primer_agente.ipynb\" target=\"_parent\"><img src=\"https://colab.research.google.com/assets/colab-badge.svg\" alt=\"Open In Colab\"/></a>"
      ]
    },
    {
      "cell_type": "markdown",
      "source": [
        "# Mi primer agente de IA"
      ],
      "metadata": {
        "id": "Kh6i7n1Zv3nn"
      }
    },
    {
      "cell_type": "code",
      "execution_count": 2,
      "metadata": {
        "id": "x0LlFVAZvfOg",
        "colab": {
          "base_uri": "https://localhost:8080/"
        },
        "outputId": "275169ca-a6b1-4a9e-c325-0e7c3b2b0f4d"
      },
      "outputs": [
        {
          "name": "stdout",
          "output_type": "stream",
          "text": [
            "Ingrese su consumo calórico máximo (o escriba 'salir' para terminar): 180\n",
            "Recetas recomendadas (≤ 180 kcal): Sopa de Verduras\n",
            "Ingrese su consumo calórico máximo (o escriba 'salir' para terminar): salir\n"
          ]
        }
      ],
      "source": [
        "# 📌 Paso 1: Definir Base de Datos de Recetas\n",
        "recetas = {\n",
        "    \"Ensalada César\": 250,\n",
        "    \"Pechuga de Pollo a la Plancha\": 350,\n",
        "    \"Pasta con Pesto\": 600,\n",
        "    \"Batido de Frutas\": 200,\n",
        "    \"Tacos de Pescado\": 450,\n",
        "    \"Sopa de Verduras\": 150\n",
        "}\n",
        "\n",
        "# 📌 Paso 2: Definir la función del Agente\n",
        "def recomendar_receta(calorias_deseadas):\n",
        "    opciones = [receta for receta, calorias in recetas.items() if calorias <= calorias_deseadas]\n",
        "    if opciones:\n",
        "        return f\"Recetas recomendadas (≤ {calorias_deseadas} kcal): {', '.join(opciones)}\"\n",
        "    else:\n",
        "        return \"No hay recetas disponibles con esas calorías.\"\n",
        "\n",
        "# 📌 Paso 3: Interacción con el Usuario\n",
        "while True:\n",
        "    entrada = input(\"Ingrese su consumo calórico máximo (o escriba 'salir' para terminar): \")\n",
        "    if entrada.lower() == \"salir\":\n",
        "        break\n",
        "    elif entrada.isdigit():\n",
        "        calorias = int(entrada)\n",
        "        print(recomendar_receta(calorias))\n",
        "    else:\n",
        "        print(\"Por favor, ingrese un número válido.\")"
      ]
    },
    {
      "cell_type": "markdown",
      "source": [
        "# Mejorando al agente"
      ],
      "metadata": {
        "id": "vk-WqQ8zv6zJ"
      }
    },
    {
      "cell_type": "code",
      "source": [
        "# 📌 Paso 1: Base de Datos de Recetas Mejorada\n",
        "recetas = {\n",
        "    \"desayuno\": {\n",
        "        \"Batido de Frutas\": 200,\n",
        "        \"Avena con Miel\": 300,\n",
        "        \"Panqueques de Avena\": 400\n",
        "    },\n",
        "    \"almuerzo\": {\n",
        "        \"Ensalada César\": 250,\n",
        "        \"Pechuga de Pollo a la Plancha\": 350,\n",
        "        \"Pasta con Pesto\": 600\n",
        "    },\n",
        "    \"cena\": {\n",
        "        \"Tacos de Pescado\": 450,\n",
        "        \"Sopa de Verduras\": 150,\n",
        "        \"Salmón con Espárragos\": 500\n",
        "    }\n",
        "}\n",
        "\n",
        "# 📌 Paso 2: Función Mejorada con Restricción de Respuestas\n",
        "def recomendar_receta(calorias_deseadas, tipo_comida):\n",
        "    if tipo_comida not in recetas:\n",
        "        return \"Por favor, elija entre 'desayuno', 'almuerzo' o 'cena'.\"\n",
        "\n",
        "    opciones = [receta for receta, calorias in recetas[tipo_comida].items() if calorias <= calorias_deseadas]\n",
        "    if opciones:\n",
        "        return f\"Recetas recomendadas para {tipo_comida} (≤ {calorias_deseadas} kcal): {', '.join(opciones)}\"\n",
        "    else:\n",
        "        return f\"No hay recetas disponibles para {tipo_comida} con esas calorías.\"\n",
        "\n",
        "# 📌 Paso 3: Función de Interacción con el Usuario Mejorada\n",
        "def agente_ia():\n",
        "    print(\"Bienvenido al asistente de recetas. Solo puedo responder sobre recetas.\")\n",
        "    while True:\n",
        "        entrada = input(\"\\nIngrese su consumo calórico máximo (o 'salir' para terminar): \")\n",
        "        if entrada.lower() == \"salir\":\n",
        "            print(\"Gracias por usar el asistente de recetas. ¡Hasta luego!\")\n",
        "            break\n",
        "        elif entrada.isdigit():\n",
        "            calorias = int(entrada)\n",
        "            tipo_comida = input(\"¿Para qué comida? (desayuno, almuerzo, cena): \").lower()\n",
        "            print(recomendar_receta(calorias, tipo_comida))\n",
        "        else:\n",
        "            print(\"⚠ Entrada no válida. Solo puedo responder sobre recetas.\")\n",
        "\n",
        "# 📌 Iniciar el Agente\n",
        "agente_ia()"
      ],
      "metadata": {
        "id": "puJimYmIv8jZ",
        "colab": {
          "base_uri": "https://localhost:8080/"
        },
        "outputId": "1d06556b-1923-44fd-b921-b1baf06c1a4d"
      },
      "execution_count": 3,
      "outputs": [
        {
          "output_type": "stream",
          "name": "stdout",
          "text": [
            "Bienvenido al asistente de recetas. Solo puedo responder sobre recetas.\n",
            "\n",
            "Ingrese su consumo calórico máximo (o 'salir' para terminar): 300\n",
            "¿Para qué comida? (desayuno, almuerzo, cena): desayuno\n",
            "Recetas recomendadas para desayuno (≤ 300 kcal): Batido de Frutas, Avena con Miel\n",
            "\n",
            "Ingrese su consumo calórico máximo (o 'salir' para terminar): salir\n",
            "Gracias por usar el asistente de recetas. ¡Hasta luego!\n"
          ]
        }
      ]
    }
  ]
}