{
  "nbformat": 4,
  "nbformat_minor": 0,
  "metadata": {
    "colab": {
      "provenance": [],
      "gpuType": "T4",
      "include_colab_link": true
    },
    "kernelspec": {
      "name": "python3",
      "display_name": "Python 3"
    },
    "language_info": {
      "name": "python"
    },
    "accelerator": "GPU"
  },
  "cells": [
    {
      "cell_type": "markdown",
      "metadata": {
        "id": "view-in-github",
        "colab_type": "text"
      },
      "source": [
        "<a href=\"https://colab.research.google.com/github/t3noch/colabs/blob/main/02_pipeline.ipynb\" target=\"_parent\"><img src=\"https://colab.research.google.com/assets/colab-badge.svg\" alt=\"Open In Colab\"/></a>"
      ]
    },
    {
      "cell_type": "code",
      "execution_count": null,
      "metadata": {
        "id": "xy1P5m1mry42"
      },
      "outputs": [],
      "source": [
        "# 📌 Paso 1: Importar Librerías\n",
        "import tensorflow as tf\n",
        "from tensorflow.keras import Sequential\n",
        "from tensorflow.keras.layers import Conv2D, MaxPooling2D, Flatten, Dense\n",
        "from tensorflow.keras.optimizers import Adam\n",
        "from tensorflow.keras.utils import to_categorical\n",
        "import matplotlib.pyplot as plt\n",
        "import numpy as np"
      ]
    },
    {
      "cell_type": "code",
      "source": [
        "# 📌 Paso 2: Cargar y Preprocesar CIFAR-10\n",
        "(X_train, y_train), (X_test, y_test) = tf.keras.datasets.cifar10.load_data()\n",
        "\n",
        "# Normalizar las imágenes (valores entre -1 y 1)\n",
        "X_train, X_test = X_train / 255.0, X_test / ___\n",
        "\n",
        "# Convertir etiquetas a formato one-hot encoding\n",
        "y_train = to_categorical(y_train, 10)\n",
        "y_test = to_categorical(___, 10)\n",
        "\n",
        "# Clases del dataset\n",
        "classes = ('avión', 'automóvil', 'pájaro', 'gato', 'ciervo', 'perro', 'rana', 'caballo', 'barco', 'camión')"
      ],
      "metadata": {
        "id": "OI-Ar7dDr8Dx"
      },
      "execution_count": null,
      "outputs": []
    },
    {
      "cell_type": "code",
      "source": [
        "# 📌 Paso 3: Visualizar algunas imágenes del dataset\n",
        "def show_images(images, labels, num=8):\n",
        "    plt.figure(figsize=(10, 2))\n",
        "    for i in range(num):\n",
        "        plt.subplot(1, num, i+1)\n",
        "        plt.imshow(images[i])\n",
        "        plt.xticks([])\n",
        "        plt.yticks([])\n",
        "        plt.xlabel(classes[np.argmax(labels[i])])\n",
        "    plt.show()\n",
        "\n",
        "# Mostrar algunas imágenes del dataset\n",
        "show_images(X_train[:8], y_train[:8])"
      ],
      "metadata": {
        "id": "E4a-f_9-r_R7"
      },
      "execution_count": null,
      "outputs": []
    },
    {
      "cell_type": "code",
      "source": [
        "# 📌 Paso 4: Definir la Red Neuronal (CNN) en Keras\n",
        "model = ___([\n",
        "    Conv2D(32, (3,3), activation='relu', padding='same', input_shape=(32,32,3)),\n",
        "    MaxPooling2D(2,2),\n",
        "    Conv2D(64, (3,3), activation='relu', padding='same'),\n",
        "    MaxPooling2D(2,2),\n",
        "    Flatten(),\n",
        "    Dense(128, activation='relu'),\n",
        "    Dense(10, activation='softmax')  # 10 clases\n",
        "])"
      ],
      "metadata": {
        "id": "wM7OpWtTsCKN"
      },
      "execution_count": null,
      "outputs": []
    },
    {
      "cell_type": "code",
      "source": [
        "# 📌 Paso 5: Configurar el Modelo\n",
        "model.___(optimizer=Adam(learning_rate=0.001),\n",
        "              loss='categorical_crossentropy',\n",
        "              metrics=['accuracy'])"
      ],
      "metadata": {
        "id": "vNCNWVwBsEWI"
      },
      "execution_count": null,
      "outputs": []
    },
    {
      "cell_type": "code",
      "source": [
        "# 📌 Paso 6: Entrenar el Modelo\n",
        "history = ___.fit(X_train, y_train, epochs=10, batch_size=64, validation_data=(X_test, y_test))"
      ],
      "metadata": {
        "id": "fJRfOnyZsGRk"
      },
      "execution_count": null,
      "outputs": []
    },
    {
      "cell_type": "code",
      "source": [
        "# 📌 Paso 7: Evaluar el Modelo en Test\n",
        "test_loss, test_acc = model.___(X_test, y_test, verbose=2)\n",
        "print(f'Precisión en test: {test_acc * 100:.2f}%')"
      ],
      "metadata": {
        "id": "NxzJJ990sIC1"
      },
      "execution_count": null,
      "outputs": []
    },
    {
      "cell_type": "code",
      "source": [
        "# 📌 Paso 8: Predicción de Ejemplo\n",
        "predictions = model.predict(X_test[:8])\n",
        "\n",
        "# Mostrar imágenes con predicciones\n",
        "show_images(X_test[:8], predictions[:8])\n",
        "\n",
        "# Mostrar las clases predichas\n",
        "predicted_classes = [classes[np.argmax(p)] for p in predictions[:8]]\n",
        "print(\"Predicciones:\", predicted_classes)"
      ],
      "metadata": {
        "id": "I0NVUnXrsJ9f"
      },
      "execution_count": null,
      "outputs": []
    }
  ]
}